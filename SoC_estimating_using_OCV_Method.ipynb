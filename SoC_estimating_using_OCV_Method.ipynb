{
 "cells": [
  {
   "cell_type": "code",
   "execution_count": null,
   "id": "7615458a",
   "metadata": {},
   "outputs": [],
   "source": [
    "import pandas as pd\n",
    "import math\n",
    "import matplotlib.pyplot as plt"
   ]
  },
  {
   "cell_type": "code",
   "execution_count": null,
   "id": "8e3cb222",
   "metadata": {},
   "outputs": [],
   "source": [
    "# OCV-SOC curve parameters for a Li-ion battery\n",
    "a = 3.4708\n",
    "b = -0.3771\n",
    "c = 0.0041"
   ]
  },
  {
   "cell_type": "code",
   "execution_count": null,
   "id": "2e6180ce",
   "metadata": {},
   "outputs": [],
   "source": [
    "# Function to estimate SoC using OCV method\n",
    "def estimate_soc(ocv):\n",
    "    soc = 100 * (1 - math.exp(-(ocv - b) / a))\n",
    "    return soc"
   ]
  },
  {
   "cell_type": "code",
   "execution_count": null,
   "id": "d8ca573b",
   "metadata": {},
   "outputs": [],
   "source": [
    "# Load the battery dataset\n",
    "df = pd.read_csv('OCV_SoC_Table.csv')"
   ]
  },
  {
   "cell_type": "code",
   "execution_count": null,
   "id": "9721e6f9",
   "metadata": {},
   "outputs": [],
   "source": [
    "# Estimate the SoC for each row in the dataset\n",
    "df['SoC'] = df['OCV'].apply(estimate_soc)"
   ]
  },
  {
   "cell_type": "code",
   "execution_count": 26,
   "id": "4b13c6e8",
   "metadata": {},
   "outputs": [
    {
     "data": {
      "image/png": "[encoded data removed]",
      "text/plain": [
       "<Figure size 432x288 with 1 Axes>"
      ]
     },
     "metadata": {
      "needs_background": "light"
     },
     "output_type": "display_data"
    }
   ],
   "source": [
    "# Plot the estimated SoC over time\n",
    "plt.plot(df['time'], df['SoC'])\n",
    "plt.xlabel('time')\n",
    "plt.ylabel('SoC')\n",
    "plt.title('Battery SoC Estimation using OCV Method')\n",
    "plt.show()"
   ]
  },
  {
   "cell_type": "code",
   "execution_count": null,
   "id": "f5092574",
   "metadata": {},
   "outputs": [],
   "source": []
  }
 ],
 "metadata": {
  "kernelspec": {
   "display_name": "Python 3 (ipykernel)",
   "language": "python",
   "name": "python3"
  },
  "language_info": {
   "codemirror_mode": {
    "name": "ipython",
    "version": 3
   },
   "file_extension": ".py",
   "mimetype": "text/x-python",
   "name": "python",
   "nbconvert_exporter": "python",
   "pygments_lexer": "ipython3",
   "version": "3.9.7"
  }
 },
 "nbformat": 4,
 "nbformat_minor": 5
}
