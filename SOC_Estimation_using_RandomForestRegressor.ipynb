{
 "cells": [
  {
   "cell_type": "code",
   "execution_count": 100,
   "id": "675fc779",
   "metadata": {},
   "outputs": [],
   "source": [
    "import pandas as pd\n",
    "import numpy as np"
   ]
  },
  {
   "cell_type": "code",
   "execution_count": 101,
   "id": "549439c1",
   "metadata": {},
   "outputs": [],
   "source": [
    "import pandas as pd\n",
    "from sklearn.model_selection import train_test_split\n",
    "from sklearn.linear_model import LinearRegression\n",
    "from sklearn.linear_model import LogisticRegression\n",
    "from sklearn.neural_network import MLPRegressor\n",
    "from sklearn.svm import SVR\n",
    "from sklearn.ensemble import RandomForestRegressor\n",
    "from sklearn.tree import DecisionTreeRegressor\n",
    "from sklearn.metrics import mean_absolute_error\n",
    "from sklearn.preprocessing import StandardScaler\n",
    "from sklearn.metrics import mean_squared_error"
   ]
  },
  {
   "cell_type": "code",
   "execution_count": 129,
   "id": "2b74b575",
   "metadata": {},
   "outputs": [
    {
     "data": {
      "text/html": [
       "<div>\n",
       "<style scoped>\n",
       "    .dataframe tbody tr th:only-of-type {\n",
       "        vertical-align: middle;\n",
       "    }\n",
       "\n",
       "    .dataframe tbody tr th {\n",
       "        vertical-align: top;\n",
       "    }\n",
       "\n",
       "    .dataframe thead th {\n",
       "        text-align: right;\n",
       "    }\n",
       "</style>\n",
       "<table border=\"1\" class=\"dataframe\">\n",
       "  <thead>\n",
       "    <tr style=\"text-align: right;\">\n",
       "      <th></th>\n",
       "      <th>Time</th>\n",
       "      <th>Voltage</th>\n",
       "      <th>Current</th>\n",
       "      <th>Temperature</th>\n",
       "      <th>Capacity</th>\n",
       "      <th>WhAccu</th>\n",
       "    </tr>\n",
       "  </thead>\n",
       "  <tbody>\n",
       "    <tr>\n",
       "      <th>0</th>\n",
       "      <td>00:01.9</td>\n",
       "      <td>4.17402</td>\n",
       "      <td>-1.20553</td>\n",
       "      <td>23.87099</td>\n",
       "      <td>0.00000</td>\n",
       "      <td>0.00000</td>\n",
       "    </tr>\n",
       "    <tr>\n",
       "      <th>1</th>\n",
       "      <td>00:02.0</td>\n",
       "      <td>4.16559</td>\n",
       "      <td>-1.08549</td>\n",
       "      <td>23.87099</td>\n",
       "      <td>-0.00003</td>\n",
       "      <td>-0.00013</td>\n",
       "    </tr>\n",
       "    <tr>\n",
       "      <th>2</th>\n",
       "      <td>00:02.1</td>\n",
       "      <td>4.16256</td>\n",
       "      <td>-1.05228</td>\n",
       "      <td>23.87099</td>\n",
       "      <td>-0.00006</td>\n",
       "      <td>-0.00026</td>\n",
       "    </tr>\n",
       "    <tr>\n",
       "      <th>3</th>\n",
       "      <td>00:02.2</td>\n",
       "      <td>4.16155</td>\n",
       "      <td>-1.04462</td>\n",
       "      <td>23.87099</td>\n",
       "      <td>-0.00009</td>\n",
       "      <td>-0.00038</td>\n",
       "    </tr>\n",
       "    <tr>\n",
       "      <th>4</th>\n",
       "      <td>00:02.3</td>\n",
       "      <td>4.16104</td>\n",
       "      <td>-1.04207</td>\n",
       "      <td>23.87099</td>\n",
       "      <td>-0.00012</td>\n",
       "      <td>-0.00050</td>\n",
       "    </tr>\n",
       "    <tr>\n",
       "      <th>...</th>\n",
       "      <td>...</td>\n",
       "      <td>...</td>\n",
       "      <td>...</td>\n",
       "      <td>...</td>\n",
       "      <td>...</td>\n",
       "      <td>...</td>\n",
       "    </tr>\n",
       "    <tr>\n",
       "      <th>85910</th>\n",
       "      <td>09:59.7</td>\n",
       "      <td>3.21554</td>\n",
       "      <td>0.00000</td>\n",
       "      <td>23.87099</td>\n",
       "      <td>-2.55821</td>\n",
       "      <td>-9.18608</td>\n",
       "    </tr>\n",
       "    <tr>\n",
       "      <th>85911</th>\n",
       "      <td>09:59.8</td>\n",
       "      <td>3.21554</td>\n",
       "      <td>0.00000</td>\n",
       "      <td>23.87099</td>\n",
       "      <td>-2.55821</td>\n",
       "      <td>-9.18608</td>\n",
       "    </tr>\n",
       "    <tr>\n",
       "      <th>85912</th>\n",
       "      <td>09:59.9</td>\n",
       "      <td>3.21554</td>\n",
       "      <td>0.00000</td>\n",
       "      <td>23.87099</td>\n",
       "      <td>-2.55821</td>\n",
       "      <td>-9.18608</td>\n",
       "    </tr>\n",
       "    <tr>\n",
       "      <th>85913</th>\n",
       "      <td>10:00.0</td>\n",
       "      <td>3.21554</td>\n",
       "      <td>0.00000</td>\n",
       "      <td>23.87099</td>\n",
       "      <td>-2.55821</td>\n",
       "      <td>-9.18608</td>\n",
       "    </tr>\n",
       "    <tr>\n",
       "      <th>85914</th>\n",
       "      <td>10:00.0</td>\n",
       "      <td>3.21554</td>\n",
       "      <td>0.00000</td>\n",
       "      <td>23.87099</td>\n",
       "      <td>-2.55821</td>\n",
       "      <td>-9.18608</td>\n",
       "    </tr>\n",
       "  </tbody>\n",
       "</table>\n",
       "<p>85915 rows × 6 columns</p>\n",
       "</div>"
      ],
      "text/plain": [
       "          Time  Voltage  Current  Temperature  Capacity   WhAccu\n",
       "0      00:01.9  4.17402 -1.20553     23.87099   0.00000  0.00000\n",
       "1      00:02.0  4.16559 -1.08549     23.87099  -0.00003 -0.00013\n",
       "2      00:02.1  4.16256 -1.05228     23.87099  -0.00006 -0.00026\n",
       "3      00:02.2  4.16155 -1.04462     23.87099  -0.00009 -0.00038\n",
       "4      00:02.3  4.16104 -1.04207     23.87099  -0.00012 -0.00050\n",
       "...        ...      ...      ...          ...       ...      ...\n",
       "85910  09:59.7  3.21554  0.00000     23.87099  -2.55821 -9.18608\n",
       "85911  09:59.8  3.21554  0.00000     23.87099  -2.55821 -9.18608\n",
       "85912  09:59.9  3.21554  0.00000     23.87099  -2.55821 -9.18608\n",
       "85913  10:00.0  3.21554  0.00000     23.87099  -2.55821 -9.18608\n",
       "85914  10:00.0  3.21554  0.00000     23.87099  -2.55821 -9.18608\n",
       "\n",
       "[85915 rows x 6 columns]"
      ]
     },
     "execution_count": 129,
     "metadata": {},
     "output_type": "execute_result"
    }
   ],
   "source": [
    "# Load the dataset\n",
    "data = pd.read_csv('Battery_dataset.csv')\n",
    "data"
   ]
  },
  {
   "cell_type": "code",
   "execution_count": 128,
   "id": "cfcde483",
   "metadata": {},
   "outputs": [
    {
     "data": {
      "text/html": [
       "<div>\n",
       "<style scoped>\n",
       "    .dataframe tbody tr th:only-of-type {\n",
       "        vertical-align: middle;\n",
       "    }\n",
       "\n",
       "    .dataframe tbody tr th {\n",
       "        vertical-align: top;\n",
       "    }\n",
       "\n",
       "    .dataframe thead th {\n",
       "        text-align: right;\n",
       "    }\n",
       "</style>\n",
       "<table border=\"1\" class=\"dataframe\">\n",
       "  <thead>\n",
       "    <tr style=\"text-align: right;\">\n",
       "      <th></th>\n",
       "      <th>Time</th>\n",
       "      <th>Voltage</th>\n",
       "      <th>Current</th>\n",
       "      <th>Temperature</th>\n",
       "      <th>Capacity</th>\n",
       "      <th>WhAccu</th>\n",
       "    </tr>\n",
       "  </thead>\n",
       "  <tbody>\n",
       "    <tr>\n",
       "      <th>0</th>\n",
       "      <td>00:01.9</td>\n",
       "      <td>4.17402</td>\n",
       "      <td>-1.20553</td>\n",
       "      <td>23.87099</td>\n",
       "      <td>0.00000</td>\n",
       "      <td>0.00000</td>\n",
       "    </tr>\n",
       "    <tr>\n",
       "      <th>1</th>\n",
       "      <td>00:02.0</td>\n",
       "      <td>4.16559</td>\n",
       "      <td>-1.08549</td>\n",
       "      <td>23.87099</td>\n",
       "      <td>-0.00003</td>\n",
       "      <td>-0.00013</td>\n",
       "    </tr>\n",
       "    <tr>\n",
       "      <th>2</th>\n",
       "      <td>00:02.1</td>\n",
       "      <td>4.16256</td>\n",
       "      <td>-1.05228</td>\n",
       "      <td>23.87099</td>\n",
       "      <td>-0.00006</td>\n",
       "      <td>-0.00026</td>\n",
       "    </tr>\n",
       "    <tr>\n",
       "      <th>3</th>\n",
       "      <td>00:02.2</td>\n",
       "      <td>4.16155</td>\n",
       "      <td>-1.04462</td>\n",
       "      <td>23.87099</td>\n",
       "      <td>-0.00009</td>\n",
       "      <td>-0.00038</td>\n",
       "    </tr>\n",
       "    <tr>\n",
       "      <th>4</th>\n",
       "      <td>00:02.3</td>\n",
       "      <td>4.16104</td>\n",
       "      <td>-1.04207</td>\n",
       "      <td>23.87099</td>\n",
       "      <td>-0.00012</td>\n",
       "      <td>-0.00050</td>\n",
       "    </tr>\n",
       "    <tr>\n",
       "      <th>...</th>\n",
       "      <td>...</td>\n",
       "      <td>...</td>\n",
       "      <td>...</td>\n",
       "      <td>...</td>\n",
       "      <td>...</td>\n",
       "      <td>...</td>\n",
       "    </tr>\n",
       "    <tr>\n",
       "      <th>1195</th>\n",
       "      <td>02:01.4</td>\n",
       "      <td>4.04238</td>\n",
       "      <td>-3.53486</td>\n",
       "      <td>23.87099</td>\n",
       "      <td>-0.03913</td>\n",
       "      <td>-0.15592</td>\n",
       "    </tr>\n",
       "    <tr>\n",
       "      <th>1196</th>\n",
       "      <td>02:01.5</td>\n",
       "      <td>4.04254</td>\n",
       "      <td>-3.53486</td>\n",
       "      <td>23.87099</td>\n",
       "      <td>-0.03922</td>\n",
       "      <td>-0.15632</td>\n",
       "    </tr>\n",
       "    <tr>\n",
       "      <th>1197</th>\n",
       "      <td>02:01.6</td>\n",
       "      <td>4.04271</td>\n",
       "      <td>-3.53486</td>\n",
       "      <td>23.87099</td>\n",
       "      <td>-0.03932</td>\n",
       "      <td>-0.15671</td>\n",
       "    </tr>\n",
       "    <tr>\n",
       "      <th>1198</th>\n",
       "      <td>02:01.7</td>\n",
       "      <td>4.04288</td>\n",
       "      <td>-3.53486</td>\n",
       "      <td>23.87099</td>\n",
       "      <td>-0.03942</td>\n",
       "      <td>-0.15711</td>\n",
       "    </tr>\n",
       "    <tr>\n",
       "      <th>1199</th>\n",
       "      <td>02:01.8</td>\n",
       "      <td>4.04288</td>\n",
       "      <td>-3.53486</td>\n",
       "      <td>23.87099</td>\n",
       "      <td>-0.03952</td>\n",
       "      <td>-0.15750</td>\n",
       "    </tr>\n",
       "  </tbody>\n",
       "</table>\n",
       "<p>1200 rows × 6 columns</p>\n",
       "</div>"
      ],
      "text/plain": [
       "         Time  Voltage  Current  Temperature  Capacity   WhAccu\n",
       "0     00:01.9  4.17402 -1.20553     23.87099   0.00000  0.00000\n",
       "1     00:02.0  4.16559 -1.08549     23.87099  -0.00003 -0.00013\n",
       "2     00:02.1  4.16256 -1.05228     23.87099  -0.00006 -0.00026\n",
       "3     00:02.2  4.16155 -1.04462     23.87099  -0.00009 -0.00038\n",
       "4     00:02.3  4.16104 -1.04207     23.87099  -0.00012 -0.00050\n",
       "...       ...      ...      ...          ...       ...      ...\n",
       "1195  02:01.4  4.04238 -3.53486     23.87099  -0.03913 -0.15592\n",
       "1196  02:01.5  4.04254 -3.53486     23.87099  -0.03922 -0.15632\n",
       "1197  02:01.6  4.04271 -3.53486     23.87099  -0.03932 -0.15671\n",
       "1198  02:01.7  4.04288 -3.53486     23.87099  -0.03942 -0.15711\n",
       "1199  02:01.8  4.04288 -3.53486     23.87099  -0.03952 -0.15750\n",
       "\n",
       "[1200 rows x 6 columns]"
      ]
     },
     "execution_count": 128,
     "metadata": {},
     "output_type": "execute_result"
    }
   ],
   "source": [
    "data1 = data.head(1200)\n",
    "data1"
   ]
  },
  {
   "cell_type": "code",
   "execution_count": 103,
   "id": "3465f9d6",
   "metadata": {},
   "outputs": [],
   "source": [
    "# Preprocess the dataset by cleaning and filtering the data\n",
    "data1 = data1.dropna()  # Remove rows with missing data\n",
    "data1 = data1[data1['Current'] != 0]  # Remove rows with zero current"
   ]
  },
  {
   "cell_type": "code",
   "execution_count": 104,
   "id": "acc6458e",
   "metadata": {},
   "outputs": [],
   "source": [
    "# Calculate the SOC using the Coulomb counting method\n",
    "dt = 1\n",
    "N = len(data1['Voltage'])\n",
    "SOC = np.zeros(N)\n",
    "SOC[0] = 1.0 # initial state of charge\n",
    "Q = 3600 # battery capacity in Coulombs\n",
    "IR = 0.5 \n",
    "for i in range(1, N):\n",
    "    dt = 1 # time difference assumed to be 1 second\n",
    "    coulombs = (data['Current'][i] + data['Current'][i-1])/2*dt/Q # average current\n",
    "    SOC[i] = SOC[i-1] - coulombs + IR*data['Current'][i]/Q    "
   ]
  },
  {
   "cell_type": "code",
   "execution_count": 105,
   "id": "127ae2df",
   "metadata": {},
   "outputs": [
    {
     "name": "stdout",
     "output_type": "stream",
     "text": [
      "           SOC\n",
      "0     1.000000\n",
      "1     1.000167\n",
      "2     1.000318\n",
      "3     1.000464\n",
      "4     1.000609\n",
      "...        ...\n",
      "1195  1.194475\n",
      "1196  1.194966\n",
      "1197  1.195457\n",
      "1198  1.195948\n",
      "1199  1.196439\n",
      "\n",
      "[1200 rows x 1 columns]\n"
     ]
    }
   ],
   "source": [
    "# Print the estimated SOC\n",
    "SOC\n",
    "import pandas as pd\n",
    "df_soc  = pd.DataFrame({'SOC':SOC})\n",
    "print(df_soc)"
   ]
  },
  {
   "cell_type": "code",
   "execution_count": 106,
   "id": "7770d79c",
   "metadata": {},
   "outputs": [],
   "source": [
    "# Split the dataset into training and testing sets\n",
    "X = data1[['Voltage', 'Current']]\n",
    "y = df_soc\n",
    "X_train, X_test, y_train, y_test = train_test_split(X, y, test_size=0.2, random_state=42)"
   ]
  },
  {
   "cell_type": "code",
   "execution_count": 107,
   "id": "6227a6d3",
   "metadata": {},
   "outputs": [
    {
     "name": "stderr",
     "output_type": "stream",
     "text": [
      "/Users/krishvenigalla/opt/anaconda3/lib/python3.9/site-packages/sklearn/utils/validation.py:63: DataConversionWarning: A column-vector y was passed when a 1d array was expected. Please change the shape of y to (n_samples, ), for example using ravel().\n",
      "  return f(*args, **kwargs)\n"
     ]
    },
    {
     "data": {
      "text/plain": [
       "MLPRegressor(hidden_layer_sizes=(100, 50), max_iter=1000, random_state=42)"
      ]
     },
     "execution_count": 107,
     "metadata": {},
     "output_type": "execute_result"
    }
   ],
   "source": [
    "# Train the neural network model\n",
    "model = MLPRegressor(hidden_layer_sizes=(100, 50), max_iter=1000, random_state=42)\n",
    "model.fit(X_train, y_train)"
   ]
  },
  {
   "cell_type": "code",
   "execution_count": 108,
   "id": "0a963b05",
   "metadata": {},
   "outputs": [
    {
     "name": "stdout",
     "output_type": "stream",
     "text": [
      "Model score: 0.08196374990371513\n"
     ]
    }
   ],
   "source": [
    "# Evaluate the model on the testing set\n",
    "score = model.score(X_test, y_test)\n",
    "print('Model score:', score)"
   ]
  },
  {
   "cell_type": "code",
   "execution_count": 109,
   "id": "3746aef5",
   "metadata": {},
   "outputs": [
    {
     "data": {
      "text/plain": [
       "LinearRegression()"
      ]
     },
     "execution_count": 109,
     "metadata": {},
     "output_type": "execute_result"
    }
   ],
   "source": [
    "# Train an AI model on the training set to estimate the SOC\n",
    "model = LinearRegression()\n",
    "model.fit(X_train, y_train)"
   ]
  },
  {
   "cell_type": "code",
   "execution_count": 110,
   "id": "293728e1",
   "metadata": {},
   "outputs": [
    {
     "name": "stdout",
     "output_type": "stream",
     "text": [
      "Model accuracy: 0.31\n"
     ]
    }
   ],
   "source": [
    "# Evaluate the model on the testing set to measure its accuracy\n",
    "score = model.score(X_test, y_test)\n",
    "print(f\"Model accuracy: {score:.2f}\")"
   ]
  },
  {
   "cell_type": "code",
   "execution_count": 111,
   "id": "fc190fff",
   "metadata": {},
   "outputs": [],
   "source": [
    "# Scale the features\n",
    "scaler = StandardScaler()\n",
    "X_train_scaled = scaler.fit_transform(X_train)\n",
    "X_test_scaled = scaler.transform(X_test)"
   ]
  },
  {
   "cell_type": "code",
   "execution_count": 112,
   "id": "4767c1bc",
   "metadata": {},
   "outputs": [
    {
     "name": "stderr",
     "output_type": "stream",
     "text": [
      "/Users/krishvenigalla/opt/anaconda3/lib/python3.9/site-packages/sklearn/utils/validation.py:63: DataConversionWarning: A column-vector y was passed when a 1d array was expected. Please change the shape of y to (n_samples, ), for example using ravel().\n",
      "  return f(*args, **kwargs)\n"
     ]
    },
    {
     "data": {
      "text/plain": [
       "SVR(gamma='auto')"
      ]
     },
     "execution_count": 112,
     "metadata": {},
     "output_type": "execute_result"
    }
   ],
   "source": [
    "# Train the SVM model\n",
    "model = SVR(kernel='rbf', gamma='auto')\n",
    "model.fit(X_train_scaled, y_train)"
   ]
  },
  {
   "cell_type": "code",
   "execution_count": 113,
   "id": "72d987f2",
   "metadata": {},
   "outputs": [
    {
     "name": "stdout",
     "output_type": "stream",
     "text": [
      "Mean Absolute Error: 0.04485448446759421\n"
     ]
    }
   ],
   "source": [
    "# Predict the SOC for test data\n",
    "y_pred = model.predict(X_test_scaled)\n",
    "\n",
    "# Calculate the mean absolute error\n",
    "mae = mean_absolute_error(y_test, y_pred)\n",
    "print(\"Mean Absolute Error:\", mae)"
   ]
  },
  {
   "cell_type": "code",
   "execution_count": 114,
   "id": "e53fbc3a",
   "metadata": {},
   "outputs": [],
   "source": [
    "# Create an SVR model with a non-linear kernel\n",
    "model = SVR(kernel='rbf', C=1e3, gamma=0.1)"
   ]
  },
  {
   "cell_type": "code",
   "execution_count": 115,
   "id": "ddbae4f5",
   "metadata": {},
   "outputs": [
    {
     "name": "stderr",
     "output_type": "stream",
     "text": [
      "/Users/krishvenigalla/opt/anaconda3/lib/python3.9/site-packages/sklearn/utils/validation.py:63: DataConversionWarning: A column-vector y was passed when a 1d array was expected. Please change the shape of y to (n_samples, ), for example using ravel().\n",
      "  return f(*args, **kwargs)\n"
     ]
    },
    {
     "data": {
      "text/plain": [
       "SVR(C=1000.0, gamma=0.1)"
      ]
     },
     "execution_count": 115,
     "metadata": {},
     "output_type": "execute_result"
    }
   ],
   "source": [
    "# Train the model on the training set\n",
    "model.fit(X_train, y_train)"
   ]
  },
  {
   "cell_type": "code",
   "execution_count": 116,
   "id": "73ffcf3d",
   "metadata": {},
   "outputs": [
    {
     "name": "stdout",
     "output_type": "stream",
     "text": [
      "Model accuracy: -0.21\n"
     ]
    }
   ],
   "source": [
    "# Evaluate the model on the testing set to measure its accuracy\n",
    "score = model.score(X_test, y_test)\n",
    "print(f\"Model accuracy: {score:.2f}\")"
   ]
  },
  {
   "cell_type": "code",
   "execution_count": 117,
   "id": "11a3faf3",
   "metadata": {},
   "outputs": [],
   "source": [
    "# Create a Decision Tree Regression model\n",
    "model = DecisionTreeRegressor(max_depth=5)"
   ]
  },
  {
   "cell_type": "code",
   "execution_count": 118,
   "id": "854c82e2",
   "metadata": {},
   "outputs": [
    {
     "name": "stdout",
     "output_type": "stream",
     "text": [
      "Mean squared error: 0.00\n"
     ]
    }
   ],
   "source": [
    "# Train the model on the training set\n",
    "model.fit(X_train, y_train)\n",
    "\n",
    "# Evaluate the model on the testing set\n",
    "y_pred = model.predict(X_test)\n",
    "mse = mean_squared_error(y_test, y_pred)\n",
    "print(f\"Mean squared error: {mse:.2f}\")"
   ]
  },
  {
   "cell_type": "code",
   "execution_count": 119,
   "id": "6abc3332",
   "metadata": {},
   "outputs": [
    {
     "name": "stdout",
     "output_type": "stream",
     "text": [
      "Model accuracy: 0.55\n"
     ]
    }
   ],
   "source": [
    "# Evaluate the model on the testing set to measure its accuracy\n",
    "score = model.score(X_test, y_test)\n",
    "print(f\"Model accuracy: {score:.2f}\")"
   ]
  },
  {
   "cell_type": "code",
   "execution_count": 120,
   "id": "5bb0b704",
   "metadata": {},
   "outputs": [],
   "source": [
    "# Create a Random Forest Regression model\n",
    "model = RandomForestRegressor(n_estimators=100, max_depth=5)"
   ]
  },
  {
   "cell_type": "code",
   "execution_count": 122,
   "id": "759eeeff",
   "metadata": {},
   "outputs": [
    {
     "name": "stdout",
     "output_type": "stream",
     "text": [
      "Model accuracy: 0.62\n"
     ]
    },
    {
     "name": "stderr",
     "output_type": "stream",
     "text": [
      "/var/folders/2_/1pn1h9kx6tzdrrfl93q6d12r0000gn/T/ipykernel_2652/2981702125.py:2: DataConversionWarning: A column-vector y was passed when a 1d array was expected. Please change the shape of y to (n_samples,), for example using ravel().\n",
      "  model.fit(X_train, y_train)\n"
     ]
    }
   ],
   "source": [
    "# Train the model on the training set\n",
    "model.fit(X_train, y_train)\n",
    "\n",
    "# Evaluate the model on the testing set to measure its accuracy\n",
    "score = model.score(X_test, y_test)\n",
    "print(f\"Model accuracy: {score:.2f}\")"
   ]
  },
  {
   "cell_type": "code",
   "execution_count": 47,
   "id": "9b9ac1d4",
   "metadata": {},
   "outputs": [
    {
     "name": "stdout",
     "output_type": "stream",
     "text": [
      "Mean squared error: 0.00\n"
     ]
    }
   ],
   "source": [
    "# Evaluate the model on the testing set\n",
    "y_pred = model.predict(X_test)\n",
    "mse = mean_squared_error(y_test, y_pred)\n",
    "print(f\"Mean squared error: {mse:.2f}\")"
   ]
  },
  {
   "cell_type": "code",
   "execution_count": 79,
   "id": "c297d736",
   "metadata": {},
   "outputs": [
    {
     "name": "stdout",
     "output_type": "stream",
     "text": [
      "Predicted SOC: [1.09821954]\n"
     ]
    }
   ],
   "source": [
    "# Use the model to predict the SOC of a new battery\n",
    "new_data = np.array([[2.5, 3.7]])\n",
    "soc_pred = model.predict(new_data)\n",
    "print('Predicted SOC:', soc_pred)"
   ]
  },
  {
   "cell_type": "code",
   "execution_count": 131,
   "id": "adcb121f",
   "metadata": {},
   "outputs": [
    {
     "name": "stderr",
     "output_type": "stream",
     "text": [
      "/var/folders/2_/1pn1h9kx6tzdrrfl93q6d12r0000gn/T/ipykernel_2652/448816793.py:25: DataConversionWarning: A column-vector y was passed when a 1d array was expected. Please change the shape of y to (n_samples,), for example using ravel().\n",
      "  model.fit(X_train, y_train)\n"
     ]
    },
    {
     "name": "stdout",
     "output_type": "stream",
     "text": [
      "Model accuracy: 0.62\n"
     ]
    },
    {
     "data": {
      "image/png": "[encoded data removed]",
      "text/plain": [
       "<Figure size 432x288 with 1 Axes>"
      ]
     },
     "metadata": {
      "needs_background": "light"
     },
     "output_type": "display_data"
    }
   ],
   "source": [
    "import pandas as pd\n",
    "import matplotlib.pyplot as plt\n",
    "from sklearn.ensemble import RandomForestRegressor\n",
    "\n",
    "# Load the dataset\n",
    "data = pd.read_csv('Battery_dataset.csv')\n",
    "data1 = data.head(1200)\n",
    "data1\n",
    "\n",
    "dt = 1\n",
    "N = len(data1['Voltage'])\n",
    "SOC = np.zeros(N)\n",
    "Q = 3600 # battery capacity in Coulombs\n",
    "IR = 0.5\n",
    "\n",
    "# Preprocess the dataset by cleaning and filtering the data\n",
    "data = data.dropna()  # Remove rows with missing data\n",
    "data = data[data['Current'] != 0]  # Remove rows with zero current\n",
    "\n",
    "# Use AI techniques to estimate the SOC\n",
    "model = RandomForestRegressor(n_estimators=100, max_depth=5)\n",
    "\n",
    "# Train the model on the training set\n",
    "model.fit(X_train, y_train)\n",
    "\n",
    "# Evaluate the model on the testing set to measure its accuracy\n",
    "score = model.score(X_test, y_test)\n",
    "print(f\"Model accuracy: {score:.2f}\")\n",
    "\n",
    "# Use the Coulomb counting method to find the SOC value in the dataset\n",
    "initial_soc = 0.5\n",
    "data['delta_time'] = dt\n",
    "data['delta_charge'] = data['Current'] * data['delta_time'] / 3600\n",
    "data['soc_cc'] = initial_soc - data['delta_charge'].cumsum()\n",
    "\n",
    "# Plot the output SOC values with time\n",
    "plt.plot(data['soc_cc'])\n",
    "plt.xlabel('Time (s)')\n",
    "plt.ylabel('State of Charge (%)')\n",
    "plt.show()"
   ]
  },
  {
   "cell_type": "code",
   "execution_count": null,
   "id": "b423a2d0",
   "metadata": {},
   "outputs": [],
   "source": []
  }
 ],
 "metadata": {
  "kernelspec": {
   "display_name": "Python 3 (ipykernel)",
   "language": "python",
   "name": "python3"
  },
  "language_info": {
   "codemirror_mode": {
    "name": "ipython",
    "version": 3
   },
   "file_extension": ".py",
   "mimetype": "text/x-python",
   "name": "python",
   "nbconvert_exporter": "python",
   "pygments_lexer": "ipython3",
   "version": "3.9.7"
  }
 },
 "nbformat": 4,
 "nbformat_minor": 5
}
