{
 "cells": [
  {
   "cell_type": "code",
   "execution_count": 1,
   "id": "129d8a7f",
   "metadata": {},
   "outputs": [],
   "source": [
    "import numpy as np\n",
    "import matplotlib.pyplot as plt\n",
    "import pandas as pd\n",
    "from keras.models import Sequential, Model\n",
    "from keras.layers import Input, Dense"
   ]
  },
  {
   "cell_type": "code",
   "execution_count": 2,
   "id": "7efe61e9",
   "metadata": {},
   "outputs": [
    {
     "data": {
      "text/html": [
       "<div>\n",
       "<style scoped>\n",
       "    .dataframe tbody tr th:only-of-type {\n",
       "        vertical-align: middle;\n",
       "    }\n",
       "\n",
       "    .dataframe tbody tr th {\n",
       "        vertical-align: top;\n",
       "    }\n",
       "\n",
       "    .dataframe thead th {\n",
       "        text-align: right;\n",
       "    }\n",
       "</style>\n",
       "<table border=\"1\" class=\"dataframe\">\n",
       "  <thead>\n",
       "    <tr style=\"text-align: right;\">\n",
       "      <th></th>\n",
       "      <th>Step Time</th>\n",
       "      <th>Voltage</th>\n",
       "      <th>Current</th>\n",
       "      <th>Temperature</th>\n",
       "      <th>Capacity</th>\n",
       "    </tr>\n",
       "  </thead>\n",
       "  <tbody>\n",
       "    <tr>\n",
       "      <th>0</th>\n",
       "      <td>00:00:00.102</td>\n",
       "      <td>4.18529</td>\n",
       "      <td>0.00000</td>\n",
       "      <td>24.08130</td>\n",
       "      <td>0.00000</td>\n",
       "    </tr>\n",
       "    <tr>\n",
       "      <th>1</th>\n",
       "      <td>00:00:00.200</td>\n",
       "      <td>4.18529</td>\n",
       "      <td>0.00000</td>\n",
       "      <td>24.08130</td>\n",
       "      <td>0.00000</td>\n",
       "    </tr>\n",
       "    <tr>\n",
       "      <th>2</th>\n",
       "      <td>00:00:00.302</td>\n",
       "      <td>4.18529</td>\n",
       "      <td>0.00000</td>\n",
       "      <td>24.08130</td>\n",
       "      <td>0.00000</td>\n",
       "    </tr>\n",
       "    <tr>\n",
       "      <th>3</th>\n",
       "      <td>00:00:00.402</td>\n",
       "      <td>4.18529</td>\n",
       "      <td>0.00000</td>\n",
       "      <td>24.08130</td>\n",
       "      <td>0.00000</td>\n",
       "    </tr>\n",
       "    <tr>\n",
       "      <th>4</th>\n",
       "      <td>00:00:00.500</td>\n",
       "      <td>4.18529</td>\n",
       "      <td>0.00000</td>\n",
       "      <td>24.08130</td>\n",
       "      <td>0.00000</td>\n",
       "    </tr>\n",
       "    <tr>\n",
       "      <th>...</th>\n",
       "      <td>...</td>\n",
       "      <td>...</td>\n",
       "      <td>...</td>\n",
       "      <td>...</td>\n",
       "      <td>...</td>\n",
       "    </tr>\n",
       "    <tr>\n",
       "      <th>48043</th>\n",
       "      <td>00:06:00.001</td>\n",
       "      <td>2.82302</td>\n",
       "      <td>-0.89649</td>\n",
       "      <td>24.18646</td>\n",
       "      <td>-2.76830</td>\n",
       "    </tr>\n",
       "    <tr>\n",
       "      <th>48044</th>\n",
       "      <td>00:06:10.000</td>\n",
       "      <td>2.81392</td>\n",
       "      <td>-0.89904</td>\n",
       "      <td>24.18646</td>\n",
       "      <td>-2.77080</td>\n",
       "    </tr>\n",
       "    <tr>\n",
       "      <th>48045</th>\n",
       "      <td>00:06:20.001</td>\n",
       "      <td>2.80448</td>\n",
       "      <td>-0.89904</td>\n",
       "      <td>24.29162</td>\n",
       "      <td>-2.77329</td>\n",
       "    </tr>\n",
       "    <tr>\n",
       "      <th>48046</th>\n",
       "      <td>00:06:24.555</td>\n",
       "      <td>2.79993</td>\n",
       "      <td>-0.89904</td>\n",
       "      <td>24.29162</td>\n",
       "      <td>-2.77441</td>\n",
       "    </tr>\n",
       "    <tr>\n",
       "      <th>48047</th>\n",
       "      <td>00:00:10.003</td>\n",
       "      <td>2.86172</td>\n",
       "      <td>0.00000</td>\n",
       "      <td>24.29162</td>\n",
       "      <td>-2.77441</td>\n",
       "    </tr>\n",
       "  </tbody>\n",
       "</table>\n",
       "<p>47809 rows × 5 columns</p>\n",
       "</div>"
      ],
      "text/plain": [
       "          Step Time  Voltage  Current  Temperature  Capacity\n",
       "0      00:00:00.102  4.18529  0.00000     24.08130   0.00000\n",
       "1      00:00:00.200  4.18529  0.00000     24.08130   0.00000\n",
       "2      00:00:00.302  4.18529  0.00000     24.08130   0.00000\n",
       "3      00:00:00.402  4.18529  0.00000     24.08130   0.00000\n",
       "4      00:00:00.500  4.18529  0.00000     24.08130   0.00000\n",
       "...             ...      ...      ...          ...       ...\n",
       "48043  00:06:00.001  2.82302 -0.89649     24.18646  -2.76830\n",
       "48044  00:06:10.000  2.81392 -0.89904     24.18646  -2.77080\n",
       "48045  00:06:20.001  2.80448 -0.89904     24.29162  -2.77329\n",
       "48046  00:06:24.555  2.79993 -0.89904     24.29162  -2.77441\n",
       "48047  00:00:10.003  2.86172  0.00000     24.29162  -2.77441\n",
       "\n",
       "[47809 rows x 5 columns]"
      ]
     },
     "execution_count": 2,
     "metadata": {},
     "output_type": "execute_result"
    }
   ],
   "source": [
    "# Load the data\n",
    "data = pd.read_csv('549_HPPC.csv')\n",
    "data.drop_duplicates() "
   ]
  },
  {
   "cell_type": "code",
   "execution_count": 3,
   "id": "2049211b",
   "metadata": {},
   "outputs": [],
   "source": [
    "# Initialize variables\n",
    "N = len(data['Voltage']) # number of data points\n",
    "SOC = np.zeros(N) # state of charge\n",
    "SOC[0] = 30 # initial state of charge\n",
    "Q = 3600 # battery capacity in Coulombs\n",
    "IR = 0.5 # internal resistance of the battery in Ohms"
   ]
  },
  {
   "cell_type": "code",
   "execution_count": 4,
   "id": "14a03f07",
   "metadata": {},
   "outputs": [],
   "source": [
    "# Coulomb counting method\n",
    "for i in range(1, N):\n",
    "    dt = 1 # time difference assumed to be 1 second\n",
    "    coulombs = (data['Current'][i] + data['Current'][i-1])/2*dt/Q # average current\n",
    "    SOC[i] = SOC[i-1] - coulombs + IR*data['Current'][i]/Q"
   ]
  },
  {
   "cell_type": "code",
   "execution_count": 5,
   "id": "d8cd59d3",
   "metadata": {},
   "outputs": [
    {
     "data": {
      "image/png": "[encoded data removed]",
      "text/plain": [
       "<Figure size 432x288 with 2 Axes>"
      ]
     },
     "metadata": {
      "needs_background": "light"
     },
     "output_type": "display_data"
    }
   ],
   "source": [
    "    \n",
    "# Plot results\n",
    "plt.subplot(2,1,1)\n",
    "plt.plot(data['Voltage'])\n",
    "plt.ylabel('Voltage (V)')\n",
    "plt.title('Battery Voltage and SOC')\n",
    "plt.grid(True)\n",
    "\n",
    "plt.subplot(2,1,2)\n",
    "plt.plot(SOC)\n",
    "plt.xlabel('Data points')\n",
    "plt.ylabel('State of Charge')\n",
    "plt.grid(True)\n",
    "plt.show()"
   ]
  },
  {
   "cell_type": "code",
   "execution_count": null,
   "id": "5494978f",
   "metadata": {},
   "outputs": [],
   "source": []
  }
 ],
 "metadata": {
  "kernelspec": {
   "display_name": "Python 3 (ipykernel)",
   "language": "python",
   "name": "python3"
  },
  "language_info": {
   "codemirror_mode": {
    "name": "ipython",
    "version": 3
   },
   "file_extension": ".py",
   "mimetype": "text/x-python",
   "name": "python",
   "nbconvert_exporter": "python",
   "pygments_lexer": "ipython3",
   "version": "3.9.7"
  }
 },
 "nbformat": 4,
 "nbformat_minor": 5
}
